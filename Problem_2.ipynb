{
 "cells": [
  {
   "cell_type": "markdown",
   "metadata": {},
   "source": [
    "## Problem 2\n",
    "### Paradoxes in Single Modal Fixed Demand Network (2)\n",
    "Lecture note 17, page 14-15"
   ]
  },
  {
   "cell_type": "code",
   "execution_count": 20,
   "metadata": {},
   "outputs": [],
   "source": [
    "# Import packages\n",
    "import networkx as nx\n",
    "import matplotlib.pyplot as plt\n",
    "import numpy as np\n",
    "import scipy.optimize as opt"
   ]
  },
  {
   "cell_type": "markdown",
   "metadata": {},
   "source": [
    "Three-link Network"
   ]
  },
  {
   "cell_type": "code",
   "execution_count": 21,
   "metadata": {},
   "outputs": [
    {
     "name": "stdout",
     "output_type": "stream",
     "text": [
      "3-link network:\n"
     ]
    },
    {
     "data": {
      "image/png": "[encoded data removed]",
      "text/plain": [
       "<Figure size 288x288 with 1 Axes>"
      ]
     },
     "metadata": {},
     "output_type": "display_data"
    }
   ],
   "source": [
    "nodes={1:(1,1),2:(0,0),3:(2,0)}\n",
    "links={'a':(1,2),'b':(1,3),'c':(2,3)}\n",
    "# Create the network based on networkx\n",
    "G=nx.DiGraph()\n",
    "# Add nodes\n",
    "for node in nodes.items():\n",
    "    G.add_node(node[0],pos=node[1])\n",
    "# Add edges\n",
    "for i in links.keys():\n",
    "    G.add_edge(links[i][0],links[i][1],link=i)\n",
    "# Plot the network\n",
    "pos=nx.get_node_attributes(G,'pos') # The positions of each node\n",
    "link_index=nx.get_edge_attributes(G,'link') # The edge index\n",
    "plt.figure(figsize=(4,4))\n",
    "nx.draw(G, pos, node_size=300, with_labels=True)\n",
    "nx.draw_networkx_edge_labels(G, pos,edge_labels=link_index) # Draw the edge labels\n",
    "print('3-link network:')"
   ]
  },
  {
   "cell_type": "code",
   "execution_count": 22,
   "metadata": {},
   "outputs": [],
   "source": [
    "# Link travel time function\n",
    "t_a = lambda x: x+1\n",
    "t_b = lambda x: x+4\n",
    "t_c = lambda x: x+1\n",
    "\n",
    "# Emission factor\n",
    "h_a = 0.01\n",
    "h_b = 0.01\n",
    "h_c = 0.5\n",
    "\n",
    "# Demand\n",
    "q_12 = 1\n",
    "q_13 = 2"
   ]
  },
  {
   "cell_type": "code",
   "execution_count": 23,
   "metadata": {},
   "outputs": [],
   "source": [
    "f1 = q_12\n",
    "guess = (1,1)\n",
    "f = lambda f2,f3: np.array([\n",
    "    f2+f3-q_13,\n",
    "    t_a(f1+f2)+t_c(f2) - t_b(f3)\n",
    "])\n",
    "[f2,f3]=opt.least_squares(lambda x: f(x[0],x[1]),x0=guess, bounds=((0,0),(np.inf,np.inf))).x\n",
    "x_a=f1+f2\n",
    "x_b=f3\n",
    "x_c=f2"
   ]
  },
  {
   "cell_type": "code",
   "execution_count": 24,
   "metadata": {},
   "outputs": [
    {
     "name": "stdout",
     "output_type": "stream",
     "text": [
      "The equilibrium flow on link a and b, and c is respectively: 2.0 1.0 and 1.0\n",
      "The equilibrium paths time is: 5.0\n",
      "The total emissions are: 0.5\n"
     ]
    }
   ],
   "source": [
    "print('The equilibrium flow on link a and b, and c is respectively:', \n",
    "np.round(x_a,1), np.round(x_b,1), 'and', np.round(x_c,1))\n",
    "print('The equilibrium paths time is:', np.round(t_a(x_a)+t_c(x_c),1))\n",
    "print('The total emissions are:', np.round(h_a*x_a+h_b*x_b+h_c*x_c,1))"
   ]
  },
  {
   "cell_type": "markdown",
   "metadata": {},
   "source": [
    "Reduced Demand"
   ]
  },
  {
   "cell_type": "code",
   "execution_count": 25,
   "metadata": {},
   "outputs": [],
   "source": [
    "# Demand\n",
    "q_12 = 0.5\n",
    "q_13 = 2"
   ]
  },
  {
   "cell_type": "code",
   "execution_count": 26,
   "metadata": {},
   "outputs": [],
   "source": [
    "f1 = q_12\n",
    "guess = (1,1)\n",
    "f = lambda f2,f3: np.array([\n",
    "    f2+f3-q_13,\n",
    "    t_a(f1+f2)+t_c(f2) - t_b(f3)\n",
    "])\n",
    "[f2,f3]=opt.least_squares(lambda x: f(x[0],x[1]),x0=guess, bounds=((0,0),(np.inf,np.inf))).x\n",
    "x_a=f1+f2\n",
    "x_b=f3\n",
    "x_c=f2"
   ]
  },
  {
   "cell_type": "code",
   "execution_count": 27,
   "metadata": {},
   "outputs": [
    {
     "name": "stdout",
     "output_type": "stream",
     "text": [
      "The equilibrium flow on link a and b, and c is respectively: 1.667 0.833 and 1.167\n",
      "The equilibrium paths time is: 4.8\n",
      "The total emissions are: 0.608\n"
     ]
    }
   ],
   "source": [
    "print('The equilibrium flow on link a and b, and c is respectively:', \n",
    "np.round(x_a,3), np.round(x_b,3), 'and', np.round(x_c,3))\n",
    "print('The equilibrium paths time is:', np.round(t_a(x_a)+t_c(x_c),1))\n",
    "print('The total emissions are:', np.round(h_a*x_a+h_b*x_b+h_c*x_c,3))"
   ]
  }
 ],
 "metadata": {
  "kernelspec": {
   "display_name": "Python 3.8.5 ('base')",
   "language": "python",
   "name": "python3"
  },
  "language_info": {
   "codemirror_mode": {
    "name": "ipython",
    "version": 3
   },
   "file_extension": ".py",
   "mimetype": "text/x-python",
   "name": "python",
   "nbconvert_exporter": "python",
   "pygments_lexer": "ipython3",
   "version": "3.8.5"
  },
  "orig_nbformat": 4,
  "vscode": {
   "interpreter": {
    "hash": "2100d8c76508f721855e1be37da816171436946c0d8a7e7e4d6d8d479461f8fa"
   }
  }
 },
 "nbformat": 4,
 "nbformat_minor": 2
}
