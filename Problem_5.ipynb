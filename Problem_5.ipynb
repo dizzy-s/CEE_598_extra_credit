{
 "cells": [
  {
   "cell_type": "markdown",
   "metadata": {},
   "source": [
    "## Problem 5\n",
    "### Viability of a Transportation Network - Example\n",
    "Lecture note 18, page 19"
   ]
  },
  {
   "cell_type": "code",
   "execution_count": 74,
   "metadata": {},
   "outputs": [],
   "source": [
    "# Import packages\n",
    "import networkx as nx\n",
    "import matplotlib.pyplot as plt\n",
    "import numpy as np\n",
    "import scipy.optimize as opt"
   ]
  },
  {
   "cell_type": "markdown",
   "metadata": {},
   "source": [
    "Four-link Network"
   ]
  },
  {
   "cell_type": "code",
   "execution_count": 75,
   "metadata": {},
   "outputs": [],
   "source": [
    "# Emission factor\n",
    "h_a = 0.5\n",
    "h_b = 0.5\n",
    "h_c = 0.3\n",
    "h_d = 0.3\n",
    "\n",
    "# Demand\n",
    "q_12 = 6\n",
    "q_13 = 4"
   ]
  },
  {
   "cell_type": "code",
   "execution_count": 76,
   "metadata": {},
   "outputs": [],
   "source": [
    "Flow_con_12 = lambda xa,xb : xa + xb - q_12\n",
    "Flow_con_13 = lambda xc,xd : xc + xd - q_13\n",
    "Env_con = lambda xa,xb,xc,xd,Q : h_a*xa + h_b*xb + h_c*xc + h_d*xd - Q\n",
    "\n",
    "def constraint_fun(xs):\n",
    "  xa,xb,xc,xd,Q=xs[0],xs[1],xs[2],xs[3],xs[4]\n",
    "  return np.array([\n",
    "    Flow_con_12(xa,xb),\n",
    "    Flow_con_13(xc,xd),\n",
    "    -Flow_con_12(xa,xb),\n",
    "    -Flow_con_13(xc,xd),\n",
    "    -Env_con(xa,xb,xc,xd,Q)\n",
    "  ])\n",
    "\n",
    "cons = ({'type':'ineq', 'fun': constraint_fun})\n",
    "bnds = ((0,None),(0,None),(0,None),(0,None),(0,None))"
   ]
  },
  {
   "cell_type": "code",
   "execution_count": 77,
   "metadata": {},
   "outputs": [],
   "source": [
    "res = opt.minimize(lambda xs: xs[4], x0=(1,1,1,1,1), constraints = cons, bounds = bnds)\n",
    "xs = res.x\n",
    "xa,xb,xc,xd=xs[0],xs[1],xs[2],xs[3]\n",
    "Q_star = xs[4]"
   ]
  },
  {
   "cell_type": "code",
   "execution_count": 78,
   "metadata": {},
   "outputs": [
    {
     "name": "stdout",
     "output_type": "stream",
     "text": [
      "The tighest environmental quality standard is: 4.2\n",
      "The network is viable, with flow x_a=3.00, x_b=3.00, x_c=2.00, x_d=2.00\n"
     ]
    }
   ],
   "source": [
    "print('The tighest environmental quality standard is:', np.round(Q_star,1))\n",
    "print(\"The network is viable, with flow x_a={:.2f}, x_b={:.2f}, x_c={:.2f}, x_d={:.2f}\".format(xa, xb, xc, xd))"
   ]
  },
  {
   "cell_type": "markdown",
   "metadata": {},
   "source": [
    "If $\\bar{Q}=5$, find the flow"
   ]
  },
  {
   "cell_type": "code",
   "execution_count": 79,
   "metadata": {},
   "outputs": [],
   "source": [
    "Q_bar = 5\n",
    "Flow_con_12 = lambda xa,xb : xa + xb - q_12\n",
    "Flow_con_13 = lambda xc,xd : xc + xd - q_13\n",
    "Env_con = lambda xa,xb,xc,xd : h_a*xa + h_b*xb + h_c*xc + h_d*xd - Q_bar\n",
    "\n",
    "def constraint_fun(xs):\n",
    "  xa,xb,xc,xd=xs[0],xs[1],xs[2],xs[3]\n",
    "  return np.array([\n",
    "    Flow_con_12(xa,xb),\n",
    "    Flow_con_13(xc,xd),\n",
    "    -Flow_con_12(xa,xb),\n",
    "    -Flow_con_13(xc,xd),\n",
    "    -Env_con(xa,xb,xc,xd)\n",
    "  ])\n",
    "\n",
    "cons = ({'type':'ineq', 'fun': constraint_fun})\n",
    "bnds = ((0,None),(0,None),(0,None),(0,None))"
   ]
  },
  {
   "cell_type": "code",
   "execution_count": 80,
   "metadata": {},
   "outputs": [],
   "source": [
    "res = opt.minimize(lambda xs: -np.sum(xs), x0=(1,1,1,1), constraints = cons, bounds = bnds)\n",
    "xs = res.x\n",
    "xa,xb,xc,xd=xs[0],xs[1],xs[2],xs[3]"
   ]
  },
  {
   "cell_type": "code",
   "execution_count": 81,
   "metadata": {},
   "outputs": [
    {
     "name": "stdout",
     "output_type": "stream",
     "text": [
      "The network is viable, with flow x_a=3.00, x_b=3.00, x_c=2.00, x_d=2.00\n"
     ]
    }
   ],
   "source": [
    "print(\"The network is viable, with flow x_a={:.2f}, x_b={:.2f}, x_c={:.2f}, x_d={:.2f}\".format(xa, xb, xc, xd))"
   ]
  }
 ],
 "metadata": {
  "kernelspec": {
   "display_name": "Python 3.8.5 ('base')",
   "language": "python",
   "name": "python3"
  },
  "language_info": {
   "codemirror_mode": {
    "name": "ipython",
    "version": 3
   },
   "file_extension": ".py",
   "mimetype": "text/x-python",
   "name": "python",
   "nbconvert_exporter": "python",
   "pygments_lexer": "ipython3",
   "version": "3.8.5"
  },
  "orig_nbformat": 4,
  "vscode": {
   "interpreter": {
    "hash": "2100d8c76508f721855e1be37da816171436946c0d8a7e7e4d6d8d479461f8fa"
   }
  }
 },
 "nbformat": 4,
 "nbformat_minor": 2
}
