{
 "cells": [
  {
   "cell_type": "markdown",
   "metadata": {},
   "source": [
    "## Problem 3\n",
    "### Paradoxes in Multi Modal Fixed Demand Network (4)\n",
    "Lecture note 17, page 18-19"
   ]
  },
  {
   "cell_type": "code",
   "execution_count": 59,
   "metadata": {},
   "outputs": [],
   "source": [
    "# Import packages\n",
    "import networkx as nx\n",
    "import matplotlib.pyplot as plt\n",
    "import numpy as np\n",
    "import scipy.optimize as opt"
   ]
  },
  {
   "cell_type": "markdown",
   "metadata": {},
   "source": [
    "Two-link Network"
   ]
  },
  {
   "cell_type": "code",
   "execution_count": 60,
   "metadata": {},
   "outputs": [
    {
     "name": "stdout",
     "output_type": "stream",
     "text": [
      "2-link network:\n"
     ]
    },
    {
     "data": {
      "image/png": "[encoded data removed]",
      "text/plain": [
       "<Figure size 288x288 with 1 Axes>"
      ]
     },
     "metadata": {},
     "output_type": "display_data"
    }
   ],
   "source": [
    "nodes={1:(1,1),2:(0,0)}\n",
    "links={'a':(1,2),'b':(1,2)}\n",
    "# Create the network based on networkx\n",
    "G=nx.DiGraph()\n",
    "# Add nodes\n",
    "for node in nodes.items():\n",
    "    G.add_node(node[0],pos=node[1])\n",
    "# Add edges\n",
    "for i in links.keys():\n",
    "    G.add_edge(links[i][0],links[i][1],link=i)\n",
    "# Plot the network\n",
    "pos=nx.get_node_attributes(G,'pos') # The positions of each node\n",
    "link_index=nx.get_edge_attributes(G,'link') # The edge index\n",
    "plt.figure(figsize=(4,4))\n",
    "nx.draw(G, pos, node_size=300, with_labels=True)\n",
    "nx.draw_networkx_edge_labels(G, pos,edge_labels=link_index) # Draw the edge labels\n",
    "print('2-link network:')"
   ]
  },
  {
   "cell_type": "code",
   "execution_count": 61,
   "metadata": {},
   "outputs": [],
   "source": [
    "# Link travel time function\n",
    "t_a_1 = lambda x: x+5\n",
    "t_b_1 = lambda x: x+5\n",
    "t_a_2 = lambda x: x+10\n",
    "t_b_2 = lambda x: x+5\n",
    "\n",
    "# Emission factor\n",
    "h_a_1 = 0.2\n",
    "h_b_1 = 0.2\n",
    "h_a_2 = 0.4\n",
    "h_b_2 = 0.1\n",
    "\n",
    "# Demand\n",
    "q_1 = 10\n",
    "q_2 = 5"
   ]
  },
  {
   "cell_type": "code",
   "execution_count": 62,
   "metadata": {},
   "outputs": [],
   "source": [
    "guess = (1,1,1,1)\n",
    "f = lambda xa1,xb1,xa2,xb2: np.array([\n",
    "    xa1+xb1-q_1,\n",
    "    xa2+xb2-q_2,\n",
    "    t_a_1(xa1) - t_b_1(xb1),\n",
    "    t_a_2(xa2) - t_b_2(xb2)\n",
    "])\n",
    "[xa1,xb1,xa2,xb2]=opt.least_squares(lambda x: f(x[0],x[1],x[2],x[3]),x0=guess).x"
   ]
  },
  {
   "cell_type": "code",
   "execution_count": 63,
   "metadata": {},
   "outputs": [
    {
     "name": "stdout",
     "output_type": "stream",
     "text": [
      "The equilibrium flow of model 1 on link a and b is respectively: 5.0 and 5.0\n",
      "The equilibrium flow of model 2 on link a and b is respectively: -0.0 and 5.0\n",
      "The equilibrium paths time is: 10.0\n",
      "The total emissions are: 2.5\n"
     ]
    }
   ],
   "source": [
    "print('The equilibrium flow of model 1 on link a and b is respectively:', \n",
    "np.round(xa1,1), 'and', np.round(xb1,1))\n",
    "print('The equilibrium flow of model 2 on link a and b is respectively:', \n",
    "np.round(xa2,1), 'and', np.round(xb2,1))\n",
    "print('The equilibrium paths time is:', np.round(t_a_1(xa1),1))\n",
    "print('The total emissions are:', np.round(h_a_1*xa1+h_a_2*xa2+h_b_1*xb1+h_b_2*xb2,1))"
   ]
  },
  {
   "cell_type": "markdown",
   "metadata": {},
   "source": [
    "Modal Shift"
   ]
  },
  {
   "cell_type": "code",
   "execution_count": 64,
   "metadata": {},
   "outputs": [],
   "source": [
    "# Demand\n",
    "q_1 = 7.5\n",
    "q_2 = 7.5"
   ]
  },
  {
   "cell_type": "code",
   "execution_count": 65,
   "metadata": {},
   "outputs": [],
   "source": [
    "guess = (1,1,1,1)\n",
    "f = lambda xa1,xb1,xa2,xb2: np.array([\n",
    "    xa1+xb1-q_1,\n",
    "    xa2+xb2-q_2,\n",
    "    t_a_1(xa1) - t_b_1(xb1),\n",
    "    t_a_2(xa2) - t_b_2(xb2)\n",
    "])\n",
    "[xa1,xb1,xa2,xb2]=opt.least_squares(lambda x: f(x[0],x[1],x[2],x[3]),x0=guess).x"
   ]
  },
  {
   "cell_type": "code",
   "execution_count": 66,
   "metadata": {},
   "outputs": [
    {
     "name": "stdout",
     "output_type": "stream",
     "text": [
      "The equilibrium flow of model 1 on link a and b is respectively: 3.75 and 3.75\n",
      "The equilibrium flow of model 2 on link a and b is respectively: 1.25 and 6.25\n",
      "The equilibrium paths time for mode 1 and 2 is respectively: 8.75 and 11.25\n",
      "The total emissions are: 2.625\n"
     ]
    }
   ],
   "source": [
    "print('The equilibrium flow of model 1 on link a and b is respectively:', \n",
    "np.round(xa1,2), 'and', np.round(xb1,2))\n",
    "print('The equilibrium flow of model 2 on link a and b is respectively:', \n",
    "np.round(xa2,2), 'and', np.round(xb2,2))\n",
    "print('The equilibrium paths time for mode 1 and 2 is respectively:', \n",
    "np.round(t_a_1(xa1),2), 'and', np.round(t_a_2(xa2),2))\n",
    "print('The total emissions are:', np.round(h_a_1*xa1+h_a_2*xa2+h_b_1*xb1+h_b_2*xb2,3))"
   ]
  }
 ],
 "metadata": {
  "kernelspec": {
   "display_name": "Python 3.8.5 ('base')",
   "language": "python",
   "name": "python3"
  },
  "language_info": {
   "codemirror_mode": {
    "name": "ipython",
    "version": 3
   },
   "file_extension": ".py",
   "mimetype": "text/x-python",
   "name": "python",
   "nbconvert_exporter": "python",
   "pygments_lexer": "ipython3",
   "version": "3.8.5"
  },
  "orig_nbformat": 4,
  "vscode": {
   "interpreter": {
    "hash": "2100d8c76508f721855e1be37da816171436946c0d8a7e7e4d6d8d479461f8fa"
   }
  }
 },
 "nbformat": 4,
 "nbformat_minor": 2
}
