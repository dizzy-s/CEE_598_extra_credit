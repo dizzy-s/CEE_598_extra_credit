{
 "cells": [
  {
   "cell_type": "markdown",
   "metadata": {},
   "source": [
    "## Problem 1\n",
    "### Paradoxes in Single Modal Fixed Demand Network (1)\n",
    "Lecture note 17, page 13"
   ]
  },
  {
   "cell_type": "code",
   "execution_count": 68,
   "metadata": {},
   "outputs": [],
   "source": [
    "# Import packages\n",
    "import networkx as nx\n",
    "import matplotlib.pyplot as plt\n",
    "import numpy as np\n",
    "import scipy.optimize as opt"
   ]
  },
  {
   "cell_type": "markdown",
   "metadata": {},
   "source": [
    "Four-link Network"
   ]
  },
  {
   "cell_type": "code",
   "execution_count": 69,
   "metadata": {},
   "outputs": [
    {
     "name": "stdout",
     "output_type": "stream",
     "text": [
      "4-link network:\n"
     ]
    },
    {
     "data": {
      "image/png": "[encoded data removed]",
      "text/plain": [
       "<Figure size 288x432 with 1 Axes>"
      ]
     },
     "metadata": {},
     "output_type": "display_data"
    }
   ],
   "source": [
    "nodes={1:(1,1),2:(0,0),3:(2,0),4:(1,-1)}\n",
    "links={'a':(1,2),'b':(1,3),'c':(2,4),'d':(3,4)}\n",
    "# Create the network based on networkx\n",
    "G=nx.DiGraph()\n",
    "# Add nodes\n",
    "for node in nodes.items():\n",
    "    G.add_node(node[0],pos=node[1])\n",
    "# Add edges\n",
    "for i in links.keys():\n",
    "    G.add_edge(links[i][0],links[i][1],link=i)\n",
    "# Plot the network\n",
    "pos=nx.get_node_attributes(G,'pos') # The positions of each node\n",
    "link_index=nx.get_edge_attributes(G,'link') # The edge index\n",
    "plt.figure(figsize=(4,6))\n",
    "nx.draw(G, pos, node_size=300, with_labels=True)\n",
    "nx.draw_networkx_edge_labels(G, pos,edge_labels=link_index) # Draw the edge labels\n",
    "print('4-link network:')"
   ]
  },
  {
   "cell_type": "code",
   "execution_count": 70,
   "metadata": {},
   "outputs": [],
   "source": [
    "# Link travel time function\n",
    "t_a = lambda x: 10*x\n",
    "t_b = lambda x: x+50\n",
    "t_c = lambda x: x+50\n",
    "t_d = lambda x: 10*x\n",
    "t_e = lambda x: x+10\n",
    "\n",
    "# Emission factor\n",
    "h = 0.1\n",
    "\n",
    "# Demand from node 1 to node 4\n",
    "demand = 6"
   ]
  },
  {
   "cell_type": "code",
   "execution_count": 71,
   "metadata": {},
   "outputs": [],
   "source": [
    "guess = (1,1)\n",
    "f = lambda f1,f2: np.array([\n",
    "    f1+f2-demand,\n",
    "    t_a(f1)+t_c(f1) - (t_b(f2)+t_d(f2))\n",
    "])\n",
    "[f1,f2]=opt.least_squares(lambda x: f(x[0],x[1]),x0=guess, bounds=((0,0),(np.inf,np.inf))).x"
   ]
  },
  {
   "cell_type": "code",
   "execution_count": 72,
   "metadata": {},
   "outputs": [
    {
     "name": "stdout",
     "output_type": "stream",
     "text": [
      "The equilibrium flow on path 1 and 2 is respectively: 3.0 and 3.0\n",
      "The equilibrium paths time is: 83.0\n",
      "The total emissions are: 1.2\n"
     ]
    }
   ],
   "source": [
    "print('The equilibrium flow on path 1 and 2 is respectively:', f1, 'and', f2)\n",
    "print('The equilibrium paths time is:', t_a(f1)+t_c(f1))\n",
    "print('The total emissions are:', np.round(2*h*f1+2*h*f2,1))"
   ]
  },
  {
   "cell_type": "markdown",
   "metadata": {},
   "source": [
    "Five-link Network"
   ]
  },
  {
   "cell_type": "code",
   "execution_count": 73,
   "metadata": {},
   "outputs": [
    {
     "name": "stdout",
     "output_type": "stream",
     "text": [
      "5-link network:\n"
     ]
    },
    {
     "data": {
      "image/png": "[encoded data removed]",
      "text/plain": [
       "<Figure size 288x432 with 1 Axes>"
      ]
     },
     "metadata": {},
     "output_type": "display_data"
    }
   ],
   "source": [
    "nodes={1:(1,1),2:(0,0),3:(2,0),4:(1,-1)}\n",
    "links={'a':(1,2),'b':(1,3),'c':(2,4),'d':(3,4),'e':(2,3)}\n",
    "# Create the network based on networkx\n",
    "G=nx.DiGraph()\n",
    "# Add nodes\n",
    "for node in nodes.items():\n",
    "    G.add_node(node[0],pos=node[1])\n",
    "# Add edges\n",
    "for i in links.keys():\n",
    "    G.add_edge(links[i][0],links[i][1],link=i)\n",
    "# Plot the network\n",
    "pos=nx.get_node_attributes(G,'pos') # The positions of each node\n",
    "link_index=nx.get_edge_attributes(G,'link') # The edge index\n",
    "plt.figure(figsize=(4,6))\n",
    "nx.draw(G, pos, node_size=300, with_labels=True)\n",
    "nx.draw_networkx_edge_labels(G, pos,edge_labels=link_index) # Draw the edge labels\n",
    "print('5-link network:')"
   ]
  },
  {
   "cell_type": "code",
   "execution_count": 74,
   "metadata": {},
   "outputs": [],
   "source": [
    "guess = (1,1,1)\n",
    "f = lambda f1,f2,f3: np.array([\n",
    "    f1+f2+f3-demand,\n",
    "    t_a(f1+f3)+t_c(f1) - (t_b(f2)+t_d(f2+f3)),\n",
    "    t_a(f1+f3)+t_c(f1) - (t_a(f1+f3)+t_e(f3)+t_d(f2+f3))\n",
    "])\n",
    "[f1,f2,f3]=opt.least_squares(lambda x: f(x[0],x[1],x[2]),x0=guess, \n",
    "bounds=((0,0,0),(np.inf,np.inf,np.inf))).x"
   ]
  },
  {
   "cell_type": "code",
   "execution_count": 75,
   "metadata": {},
   "outputs": [
    {
     "name": "stdout",
     "output_type": "stream",
     "text": [
      "The equilibrium flow on path 1 and 2, and 3 is respectively: 2.0 2.0 and 2.0\n",
      "The equilibrium paths time is: 92.0\n",
      "The total emissions are: 1.4\n"
     ]
    }
   ],
   "source": [
    "print('The equilibrium flow on path 1 and 2, and 3 is respectively:', \n",
    "np.round(f1,1), np.round(f2,1), 'and', np.round(f3,1))\n",
    "print('The equilibrium paths time is:', np.round(t_a(f1+f3)+t_c(f1),1))\n",
    "print('The total emissions are:', np.round(2*h*f1+2*h*f2+h*(f1+f2+f3),1))"
   ]
  }
 ],
 "metadata": {
  "kernelspec": {
   "display_name": "Python 3.8.5 ('base')",
   "language": "python",
   "name": "python3"
  },
  "language_info": {
   "codemirror_mode": {
    "name": "ipython",
    "version": 3
   },
   "file_extension": ".py",
   "mimetype": "text/x-python",
   "name": "python",
   "nbconvert_exporter": "python",
   "pygments_lexer": "ipython3",
   "version": "3.8.5"
  },
  "orig_nbformat": 4,
  "vscode": {
   "interpreter": {
    "hash": "2100d8c76508f721855e1be37da816171436946c0d8a7e7e4d6d8d479461f8fa"
   }
  }
 },
 "nbformat": 4,
 "nbformat_minor": 2
}
