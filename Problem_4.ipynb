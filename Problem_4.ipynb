{
 "cells": [
  {
   "cell_type": "markdown",
   "metadata": {},
   "source": [
    "## Problem 4\n",
    "### Environmental Quality Standard - Example\n",
    "Lecture note 18, page 15"
   ]
  },
  {
   "cell_type": "code",
   "execution_count": 13,
   "metadata": {},
   "outputs": [],
   "source": [
    "# Import packages\n",
    "import networkx as nx\n",
    "import matplotlib.pyplot as plt\n",
    "import numpy as np\n",
    "import scipy.optimize as opt"
   ]
  },
  {
   "cell_type": "markdown",
   "metadata": {},
   "source": [
    "Three-link Network"
   ]
  },
  {
   "cell_type": "code",
   "execution_count": 14,
   "metadata": {},
   "outputs": [],
   "source": [
    "# Emission factor\n",
    "h_a = 0.1\n",
    "h_b = 0.2\n",
    "h_c = 0.3\n",
    "\n",
    "# Demand\n",
    "q_12 = 10"
   ]
  },
  {
   "cell_type": "code",
   "execution_count": 15,
   "metadata": {},
   "outputs": [],
   "source": [
    "Flow_con = lambda xs : xs[0] + xs[1] + xs[2] - 10\n",
    "Env_con = lambda xs : h_a*xs[0] + h_b*xs[1] + h_c*xs[2] - xs[3]\n",
    "\n",
    "def constraint_fun(xs):\n",
    "  return np.array([\n",
    "    Flow_con(xs),\n",
    "    -Flow_con(xs),\n",
    "    -Env_con(xs)\n",
    "  ])\n",
    "\n",
    "cons = ({'type':'ineq', 'fun': constraint_fun})\n",
    "bnds = ((0,None),(0,None),(0,None),(0,None))"
   ]
  },
  {
   "cell_type": "code",
   "execution_count": 16,
   "metadata": {},
   "outputs": [],
   "source": [
    "res = opt.minimize(lambda xs: xs[3], x0=(1,1,1,1), constraints = cons, bounds = bnds)\n",
    "Q_star = res.x[3]"
   ]
  },
  {
   "cell_type": "code",
   "execution_count": 17,
   "metadata": {},
   "outputs": [
    {
     "name": "stdout",
     "output_type": "stream",
     "text": [
      "The tighest environmental quality standard is: 1.0\n"
     ]
    }
   ],
   "source": [
    "print('The tighest environmental quality standard is:', np.round(Q_star,1))"
   ]
  }
 ],
 "metadata": {
  "kernelspec": {
   "display_name": "Python 3.8.5 ('base')",
   "language": "python",
   "name": "python3"
  },
  "language_info": {
   "codemirror_mode": {
    "name": "ipython",
    "version": 3
   },
   "file_extension": ".py",
   "mimetype": "text/x-python",
   "name": "python",
   "nbconvert_exporter": "python",
   "pygments_lexer": "ipython3",
   "version": "3.8.5"
  },
  "orig_nbformat": 4,
  "vscode": {
   "interpreter": {
    "hash": "2100d8c76508f721855e1be37da816171436946c0d8a7e7e4d6d8d479461f8fa"
   }
  }
 },
 "nbformat": 4,
 "nbformat_minor": 2
}
